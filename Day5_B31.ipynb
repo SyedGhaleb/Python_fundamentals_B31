{
 "cells": [
  {
   "cell_type": "code",
   "execution_count": 3,
   "metadata": {
    "scrolled": true
   },
   "outputs": [
    {
     "name": "stdout",
     "output_type": "stream",
     "text": [
      "['rose', 'lilly', 'jasmine', 'sunflower']\n"
     ]
    }
   ],
   "source": [
    "flowers=['rose','lilly','jasmine','sunflower']\n",
    "print(flowers)"
   ]
  },
  {
   "cell_type": "code",
   "execution_count": null,
   "metadata": {},
   "outputs": [],
   "source": [
    "Req : Add new flower TULIP to the list----> Method is Append(value) it will add the element at the ending of the list"
   ]
  },
  {
   "cell_type": "code",
   "execution_count": 11,
   "metadata": {},
   "outputs": [
    {
     "name": "stdout",
     "output_type": "stream",
     "text": [
      "['rose', 'lilly', 'jasmine', 'sunflower', 'lotus', 'tulip', 'tulip']\n"
     ]
    }
   ],
   "source": [
    "flowers.append('tulip')\n",
    "print(flowers)"
   ]
  },
  {
   "cell_type": "code",
   "execution_count": null,
   "metadata": {},
   "outputs": [],
   "source": [
    "Req: Add Lotus to the List in 4th place-->Instert (Index,'element')--> Instert will add at which position we want element \n",
    "    to be added"
   ]
  },
  {
   "cell_type": "code",
   "execution_count": 14,
   "metadata": {},
   "outputs": [
    {
     "name": "stdout",
     "output_type": "stream",
     "text": [
      "['rose', 'lilly', 'jasmine', 'sunflower', 'lotus', 'lotus', 'lotus', 'lotus', 'tulip', 'tulip']\n"
     ]
    }
   ],
   "source": [
    "flowers.insert(4,'lotus')\n",
    "print(flowers)"
   ]
  },
  {
   "cell_type": "code",
   "execution_count": null,
   "metadata": {},
   "outputs": [],
   "source": [
    "Req: replce tulip from 9th place with hibiscus"
   ]
  },
  {
   "cell_type": "code",
   "execution_count": 15,
   "metadata": {},
   "outputs": [
    {
     "name": "stdout",
     "output_type": "stream",
     "text": [
      "['rose', 'lilly', 'jasmine', 'sunflower', 'lotus', 'lotus', 'lotus', 'lotus', 'hibiscus', 'tulip']\n"
     ]
    }
   ],
   "source": [
    "flowers[8]='hibiscus'\n",
    "print(flowers)"
   ]
  },
  {
   "cell_type": "code",
   "execution_count": null,
   "metadata": {},
   "outputs": [],
   "source": [
    "Replace :lotus from 6th 7th and 8th poistion since its repeated"
   ]
  },
  {
   "cell_type": "code",
   "execution_count": null,
   "metadata": {},
   "outputs": [],
   "source": []
  },
  {
   "cell_type": "code",
   "execution_count": 16,
   "metadata": {},
   "outputs": [
    {
     "name": "stdout",
     "output_type": "stream",
     "text": [
      "['rose', 'lilly', 'jasmine', 'sunflower', 'lotus', 'hibiscus', 'tulip']\n"
     ]
    }
   ],
   "source": [
    "flowers[5:8]=''\n",
    "print(flowers)"
   ]
  },
  {
   "cell_type": "code",
   "execution_count": null,
   "metadata": {},
   "outputs": [],
   "source": []
  },
  {
   "cell_type": "code",
   "execution_count": null,
   "metadata": {},
   "outputs": [],
   "source": [
    "Req: To delete the element i.e lilly for the list"
   ]
  },
  {
   "cell_type": "code",
   "execution_count": 17,
   "metadata": {},
   "outputs": [
    {
     "name": "stdout",
     "output_type": "stream",
     "text": [
      "['rose', 'jasmine', 'sunflower', 'lotus', 'hibiscus', 'tulip']\n"
     ]
    }
   ],
   "source": [
    "del flowers[1]\n",
    "print(flowers)"
   ]
  },
  {
   "cell_type": "code",
   "execution_count": null,
   "metadata": {},
   "outputs": [],
   "source": []
  },
  {
   "cell_type": "code",
   "execution_count": null,
   "metadata": {},
   "outputs": [],
   "source": []
  }
 ],
 "metadata": {
  "kernelspec": {
   "display_name": "Python 3",
   "language": "python",
   "name": "python3"
  },
  "language_info": {
   "codemirror_mode": {
    "name": "ipython",
    "version": 3
   },
   "file_extension": ".py",
   "mimetype": "text/x-python",
   "name": "python",
   "nbconvert_exporter": "python",
   "pygments_lexer": "ipython3",
   "version": "3.8.5"
  }
 },
 "nbformat": 4,
 "nbformat_minor": 4
}
