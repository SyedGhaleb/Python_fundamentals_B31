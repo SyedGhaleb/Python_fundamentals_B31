{
 "cells": [
  {
   "cell_type": "code",
   "execution_count": 1,
   "metadata": {},
   "outputs": [
    {
     "name": "stdout",
     "output_type": "stream",
     "text": [
      "['ghaleb', 'vijaya', 'vimal', 'tilak']\n"
     ]
    }
   ],
   "source": [
    "students=['ghaleb','vijaya','vimal','tilak']\n",
    "print(students)"
   ]
  },
  {
   "cell_type": "code",
   "execution_count": 3,
   "metadata": {},
   "outputs": [
    {
     "name": "stdout",
     "output_type": "stream",
     "text": [
      "['ghaleb', 'vijaya', 'vimal', 'tilak', 'suresh']\n"
     ]
    }
   ],
   "source": [
    "students.append('suresh')\n",
    "print(students)"
   ]
  },
  {
   "cell_type": "code",
   "execution_count": null,
   "metadata": {},
   "outputs": [],
   "source": [
    "Req: I want to appreciate each and every student in the above list for submitting daily task"
   ]
  },
  {
   "cell_type": "code",
   "execution_count": 7,
   "metadata": {},
   "outputs": [
    {
     "name": "stdout",
     "output_type": "stream",
     "text": [
      "keep of the good work, Ghaleb\n"
     ]
    }
   ],
   "source": [
    "print(f\"keep of the good work, {students[0].title()}\")"
   ]
  },
  {
   "cell_type": "code",
   "execution_count": 9,
   "metadata": {},
   "outputs": [
    {
     "name": "stdout",
     "output_type": "stream",
     "text": [
      "keep of the good work, Vimal\n"
     ]
    }
   ],
   "source": [
    "print(f\"keep of the good work, {students[2].title()}\")"
   ]
  },
  {
   "cell_type": "code",
   "execution_count": null,
   "metadata": {},
   "outputs": [],
   "source": []
  },
  {
   "cell_type": "code",
   "execution_count": null,
   "metadata": {},
   "outputs": [],
   "source": [
    "# for loop syntaxt6\n",
    "for tempvariable in mainvariable:\n",
    "    print(tempvariable)        # this gap is called indentation---\n",
    "    \n",
    "  "
   ]
  },
  {
   "cell_type": "code",
   "execution_count": 10,
   "metadata": {},
   "outputs": [
    {
     "name": "stdout",
     "output_type": "stream",
     "text": [
      "ghaleb\n",
      "vijaya\n",
      "vimal\n",
      "tilak\n",
      "suresh\n"
     ]
    }
   ],
   "source": [
    "for x in students:\n",
    "    print(x)"
   ]
  },
  {
   "cell_type": "code",
   "execution_count": 19,
   "metadata": {},
   "outputs": [
    {
     "name": "stdout",
     "output_type": "stream",
     "text": [
      "keep up the good work, Ghaleb\n",
      "keep up the good work, Vijaya\n",
      "keep up the good work, Vimal\n",
      "keep up the good work, Tilak\n",
      "keep up the good work, Suresh\n"
     ]
    }
   ],
   "source": [
    "for y in students:\n",
    "    print(f\"keep up the good work, {y.title()}\")"
   ]
  },
  {
   "cell_type": "code",
   "execution_count": 23,
   "metadata": {},
   "outputs": [
    {
     "name": "stdout",
     "output_type": "stream",
     "text": [
      "keep up the good work, Ghaleb\n",
      "I am looking forward your practise files daily,Ghaleb\n",
      "keep up the good work, Vijaya\n",
      "I am looking forward your practise files daily,Vijaya\n",
      "keep up the good work, Vimal\n",
      "I am looking forward your practise files daily,Vimal\n",
      "keep up the good work, Tilak\n",
      "I am looking forward your practise files daily,Tilak\n",
      "keep up the good work, Suresh\n",
      "I am looking forward your practise files daily,Suresh\n"
     ]
    }
   ],
   "source": [
    "for y in students:\n",
    "    print(f\"keep up the good work, {y.title()}\")\n",
    "    print(f\"I am looking forward your practise files daily,{y.title()}\")"
   ]
  },
  {
   "cell_type": "code",
   "execution_count": 25,
   "metadata": {},
   "outputs": [
    {
     "name": "stdout",
     "output_type": "stream",
     "text": [
      "keep up the good work, Ghaleb\n",
      "I am looking forward your practise files daily,Ghaleb.\n",
      "\n",
      "keep up the good work, Vijaya\n",
      "I am looking forward your practise files daily,Vijaya.\n",
      "\n",
      "keep up the good work, Vimal\n",
      "I am looking forward your practise files daily,Vimal.\n",
      "\n",
      "keep up the good work, Tilak\n",
      "I am looking forward your practise files daily,Tilak.\n",
      "\n",
      "keep up the good work, Suresh\n",
      "I am looking forward your practise files daily,Suresh.\n",
      "\n"
     ]
    }
   ],
   "source": [
    "for y in students:\n",
    "    print(f\"keep up the good work, {y.title()}\")\n",
    "    print(f\"I am looking forward your practise files daily,{y.title()}.\\n\")  # for new line after the place holder"
   ]
  },
  {
   "cell_type": "code",
   "execution_count": 26,
   "metadata": {},
   "outputs": [
    {
     "name": "stdout",
     "output_type": "stream",
     "text": [
      "keep up the good work, Ghaleb\n",
      "I am looking forward your practise files daily,Ghaleb.\n",
      "\n",
      "keep up the good work, Vijaya\n",
      "I am looking forward your practise files daily,Vijaya.\n",
      "\n",
      "keep up the good work, Vimal\n",
      "I am looking forward your practise files daily,Vimal.\n",
      "\n",
      "keep up the good work, Tilak\n",
      "I am looking forward your practise files daily,Tilak.\n",
      "\n",
      "keep up the good work, Suresh\n",
      "I am looking forward your practise files daily,Suresh.\n",
      "\n",
      "Thanks for joining the session\n"
     ]
    }
   ],
   "source": [
    "for y in students:\n",
    "    print(f\"keep up the good work, {y.title()}\")\n",
    "    print(f\"I am looking forward your practise files daily,{y.title()}.\\n\")  # for new line after the place holder\n",
    "print('Thanks for joining the session')   #-----> This line executes only once since it is out of the loop"
   ]
  },
  {
   "cell_type": "code",
   "execution_count": null,
   "metadata": {},
   "outputs": [],
   "source": []
  }
 ],
 "metadata": {
  "kernelspec": {
   "display_name": "Python 3",
   "language": "python",
   "name": "python3"
  },
  "language_info": {
   "codemirror_mode": {
    "name": "ipython",
    "version": 3
   },
   "file_extension": ".py",
   "mimetype": "text/x-python",
   "name": "python",
   "nbconvert_exporter": "python",
   "pygments_lexer": "ipython3",
   "version": "3.8.5"
  }
 },
 "nbformat": 4,
 "nbformat_minor": 4
}
